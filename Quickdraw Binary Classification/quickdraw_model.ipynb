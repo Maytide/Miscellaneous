{
  "nbformat": 4,
  "nbformat_minor": 0,
  "metadata": {
    "colab": {
      "name": "quickdraw_model.ipynb",
      "version": "0.3.2",
      "views": {},
      "default_view": {},
      "provenance": [],
      "collapsed_sections": []
    },
    "kernelspec": {
      "name": "python3",
      "display_name": "Python 3"
    }
  },
  "cells": [
    {
      "metadata": {
        "id": "ij2mKrmpyeGe",
        "colab_type": "text"
      },
      "source": [
        "## Classify Quickdraw clouds vs pencils"
      ],
      "cell_type": "markdown"
    },
    {
      "metadata": {
        "id": "wBWD_Sn_7dMe",
        "colab_type": "code",
        "colab": {
          "autoexec": {
            "startup": false,
            "wait_interval": 0
          },
          "output_extras": [
            {
              "item_id": 2
            }
          ],
          "base_uri": "https://localhost:8080/",
          "height": 217
        },
        "outputId": "b8325dc9-c660-4786-93de-c4d2046f6b56",
        "executionInfo": {
          "status": "ok",
          "timestamp": 1514844688090,
          "user_tz": 300,
          "elapsed": 5450,
          "user": {
            "displayName": "George Zhang",
            "photoUrl": "//lh6.googleusercontent.com/-9PqbapyYYJU/AAAAAAAAAAI/AAAAAAAACcI/M5sw0u4rr-g/s50-c-k-no/photo.jpg",
            "userId": "116297170449001352312"
          }
        }
      },
      "source": [
        "# https://towardsdatascience.com/neural-networks-with-google-colaboratory-artificial-intelligence-getting-started-713b5eb07f14\n",
        "# !pip install -U -q PyDrive\n",
        "# !pip install -q keras\n",
        "# !pip install -q h5py\n",
        "!pip install -q libhdf5\n",
        "!pip show h5py"
      ],
      "cell_type": "code",
      "execution_count": 160,
      "outputs": [
        {
          "output_type": "stream",
          "text": [
            "\u001b[31m  Could not find a version that satisfies the requirement libhdf5 (from versions: )\u001b[0m\r\n",
            "\u001b[31mNo matching distribution found for libhdf5\u001b[0m\n",
            "Name: h5py\n",
            "Version: 2.7.1\n",
            "Summary: Read and write HDF5 files from Python\n",
            "Home-page: http://www.h5py.org\n",
            "Author: Andrew Collette\n",
            "Author-email: andrew.collette@gmail.com\n",
            "License: UNKNOWN\n",
            "Location: /usr/local/lib/python3.6/dist-packages\n",
            "Requires: numpy, six\n"
          ],
          "name": "stdout"
        }
      ]
    },
    {
      "metadata": {
        "id": "55Xk2WNbh2bW",
        "colab_type": "code",
        "colab": {
          "autoexec": {
            "startup": false,
            "wait_interval": 0
          },
          "output_extras": [
            {
              "item_id": 1
            }
          ],
          "base_uri": "https://localhost:8080/",
          "height": 181
        },
        "outputId": "a97e1375-902c-43be-fcb0-671b68bec18d",
        "executionInfo": {
          "status": "ok",
          "timestamp": 1514843498805,
          "user_tz": 300,
          "elapsed": 3414,
          "user": {
            "displayName": "George Zhang",
            "photoUrl": "//lh6.googleusercontent.com/-9PqbapyYYJU/AAAAAAAAAAI/AAAAAAAACcI/M5sw0u4rr-g/s50-c-k-no/photo.jpg",
            "userId": "116297170449001352312"
          }
        }
      },
      "source": [
        "!pip show tensorflow\n",
        "import math\n",
        "\n",
        "import numpy as np\n",
        "import tensorflow as tf\n",
        "\n",
        "from sklearn.model_selection import train_test_split\n",
        "from sklearn.preprocessing import OneHotEncoder\n",
        "\n",
        "from pydrive.auth import GoogleAuth\n",
        "from pydrive.drive import GoogleDrive\n",
        "from google.colab import auth\n",
        "from oauth2client.client import GoogleCredentials\n",
        "\n",
        "auth.authenticate_user()\n",
        "gauth = GoogleAuth()\n",
        "gauth.credentials = GoogleCredentials.get_application_default()\n",
        "drive = GoogleDrive(gauth)"
      ],
      "cell_type": "code",
      "execution_count": 141,
      "outputs": [
        {
          "output_type": "stream",
          "text": [
            "Name: tensorflow\r\n",
            "Version: 1.4.1\r\n",
            "Summary: TensorFlow helps the tensors flow\r\n",
            "Home-page: https://www.tensorflow.org/\r\n",
            "Author: Google Inc.\r\n",
            "Author-email: opensource@google.com\r\n",
            "License: Apache 2.0\r\n",
            "Location: /usr/local/lib/python3.6/dist-packages\r\n",
            "Requires: enum34, numpy, tensorflow-tensorboard, six, protobuf, wheel\r\n"
          ],
          "name": "stdout"
        }
      ]
    },
    {
      "metadata": {
        "id": "6o9HvESKBMNP",
        "colab_type": "code",
        "colab": {
          "autoexec": {
            "startup": false,
            "wait_interval": 0
          }
        }
      },
      "source": [
        ""
      ],
      "cell_type": "code",
      "execution_count": 0,
      "outputs": []
    },
    {
      "metadata": {
        "id": "LECWXKWjh9Qr",
        "colab_type": "code",
        "colab": {
          "autoexec": {
            "startup": false,
            "wait_interval": 0
          }
        }
      },
      "source": [
        "# cloud = np.load('%s.npy' % ('cloud',)) / 255\n",
        "# pencil = np.load('%s.npy' % ('pencil',)) / 255\n",
        "\n",
        "\n",
        "cloud_file = drive.CreateFile({'id': '1GMP27LtfkbDR4z7BwZkiR3m_3C0sqFIM'})\n",
        "cloud_file.GetContentFile('cloud.npy')\n",
        "pencil_file = drive.CreateFile({'id': '1f0wxJyU13GoVDDxtyR5pTgmQxav6-Nu6'})\n",
        "pencil_file.GetContentFile('pencil.npy')\n",
        "\n",
        "cloud = np.load('%s.npy' % ('cloud',)) / 255\n",
        "pencil = np.load('%s.npy' % ('pencil',)) / 255\n",
        "\n",
        "N = {'cloud': cloud.shape[0], 'pencil': pencil.shape[0]}\n",
        "N_total = sum([n_item for item, n_item in N.items()])\n",
        "N_pixels = cloud.shape[1]\n",
        "\n",
        "k = int(math.sqrt(N_pixels))\n",
        "cloud = cloud.reshape((N['cloud'], k, k, 1))\n",
        "pencil = pencil.reshape((N['pencil'], k, k, 1))"
      ],
      "cell_type": "code",
      "execution_count": 0,
      "outputs": []
    },
    {
      "metadata": {
        "id": "5Ii_8P_Y6l4G",
        "colab_type": "code",
        "colab": {
          "autoexec": {
            "startup": false,
            "wait_interval": 0
          }
        }
      },
      "source": [
        "# print(cloud.shape, pencil.shape)\n",
        "# print(cloud[:1], '\\n', pencil[:1])"
      ],
      "cell_type": "code",
      "execution_count": 0,
      "outputs": []
    },
    {
      "metadata": {
        "id": "XOuSq-1hBgI3",
        "colab_type": "code",
        "colab": {
          "autoexec": {
            "startup": false,
            "wait_interval": 0
          },
          "output_extras": [
            {
              "item_id": 1
            }
          ],
          "base_uri": "https://localhost:8080/",
          "height": 399
        },
        "outputId": "64d46689-1c4d-404f-ddf9-027a1f03b620",
        "executionInfo": {
          "status": "ok",
          "timestamp": 1514843509623,
          "user_tz": 300,
          "elapsed": 1893,
          "user": {
            "displayName": "George Zhang",
            "photoUrl": "//lh6.googleusercontent.com/-9PqbapyYYJU/AAAAAAAAAAI/AAAAAAAACcI/M5sw0u4rr-g/s50-c-k-no/photo.jpg",
            "userId": "116297170449001352312"
          }
        }
      },
      "source": [
        "# X = np.stack([cloud, pencil], axis=0) # Don't use stack - this joins along 3rd axis!\n",
        "X = np.concatenate([cloud, pencil], axis=0)\n",
        "print(X.shape)\n",
        "\n",
        "y = np.zeros([N_total, 1])\n",
        "y[0:N['cloud']] = 0\n",
        "# y[N['cloud']:N['pencil']] = 1 # This is wrong!\n",
        "y[N['cloud']:N['cloud'] + N['pencil']] = 1\n",
        "\n",
        "enc = OneHotEncoder()\n",
        "# I don't understand the display without .toarray()\n",
        "# https://stackoverflow.com/questions/45738308/scikit-convert-one-hot-encoding-to-encoding-with-integers\n",
        "y = enc.fit_transform(y).toarray()\n",
        "print(y[:10], '\\n', y[N['cloud']:N['cloud']+10])"
      ],
      "cell_type": "code",
      "execution_count": 144,
      "outputs": [
        {
          "output_type": "stream",
          "text": [
            "(242266, 28, 28, 1)\n",
            "[[ 1.  0.]\n",
            " [ 1.  0.]\n",
            " [ 1.  0.]\n",
            " [ 1.  0.]\n",
            " [ 1.  0.]\n",
            " [ 1.  0.]\n",
            " [ 1.  0.]\n",
            " [ 1.  0.]\n",
            " [ 1.  0.]\n",
            " [ 1.  0.]] \n",
            " [[ 0.  1.]\n",
            " [ 0.  1.]\n",
            " [ 0.  1.]\n",
            " [ 0.  1.]\n",
            " [ 0.  1.]\n",
            " [ 0.  1.]\n",
            " [ 0.  1.]\n",
            " [ 0.  1.]\n",
            " [ 0.  1.]\n",
            " [ 0.  1.]]\n"
          ],
          "name": "stdout"
        }
      ]
    },
    {
      "metadata": {
        "id": "I8E6DQNLVrjD",
        "colab_type": "code",
        "colab": {
          "autoexec": {
            "startup": false,
            "wait_interval": 0
          },
          "output_extras": [
            {
              "item_id": 1
            }
          ],
          "base_uri": "https://localhost:8080/",
          "height": 35
        },
        "outputId": "80d7a529-d883-4e1f-e79d-7ae933055780",
        "executionInfo": {
          "status": "ok",
          "timestamp": 1514843510337,
          "user_tz": 300,
          "elapsed": 633,
          "user": {
            "displayName": "George Zhang",
            "photoUrl": "//lh6.googleusercontent.com/-9PqbapyYYJU/AAAAAAAAAAI/AAAAAAAACcI/M5sw0u4rr-g/s50-c-k-no/photo.jpg",
            "userId": "116297170449001352312"
          }
        }
      },
      "source": [
        "n0y = 0\n",
        "n1y = 0\n",
        "for sample in y:\n",
        "  if sample[0] > 0: n0y += 1\n",
        "  else: n1y += 1\n",
        "print(n0y, n1y)"
      ],
      "cell_type": "code",
      "execution_count": 145,
      "outputs": [
        {
          "output_type": "stream",
          "text": [
            "120265 122001\n"
          ],
          "name": "stdout"
        }
      ]
    },
    {
      "metadata": {
        "id": "qg8y37ssJzUd",
        "colab_type": "code",
        "colab": {
          "autoexec": {
            "startup": false,
            "wait_interval": 0
          }
        }
      },
      "source": [
        "X_train, X_test, y_train, y_test = train_test_split(X, y, test_size=0.01, random_state=100)\n",
        "# print(y_train.shape, y_test.shape)\n",
        "# print(X_train[:12], '\\n', y_train[:12])\n",
        "# print(y_train[N['cloud']:N['cloud']+10])\n",
        "# print(y_train[N['cloud']+1000:N['cloud']+1010])\n",
        "# print(y_train[:10], '\\n', y_train[N['cloud']:N['cloud']+10])\n",
        "# print(y_train[-10:])\n",
        "\n",
        "# X_train = np.expand_dims(X_train, axis=3)\n",
        "# X_test = np.expand_dims(X_test, axis=3)\n",
        "# y_train = np.expand_dims(y_train, axis=3)\n",
        "# y_test = np.expand_dims(y_test, axis=3)"
      ],
      "cell_type": "code",
      "execution_count": 0,
      "outputs": []
    },
    {
      "metadata": {
        "id": "cm38fN8YSSqX",
        "colab_type": "code",
        "colab": {
          "autoexec": {
            "startup": false,
            "wait_interval": 0
          },
          "output_extras": [
            {
              "item_id": 1
            }
          ],
          "base_uri": "https://localhost:8080/",
          "height": 53
        },
        "outputId": "b4364acc-827b-40ae-ac3a-e31a8cdf33fb",
        "executionInfo": {
          "status": "ok",
          "timestamp": 1514844536204,
          "user_tz": 300,
          "elapsed": 489,
          "user": {
            "displayName": "George Zhang",
            "photoUrl": "//lh6.googleusercontent.com/-9PqbapyYYJU/AAAAAAAAAAI/AAAAAAAACcI/M5sw0u4rr-g/s50-c-k-no/photo.jpg",
            "userId": "116297170449001352312"
          }
        }
      },
      "source": [
        "n0 = 0\n",
        "n1 = 0\n",
        "for sample in y_train:\n",
        "  if sample[0] > 0: n0 += 1\n",
        "  else: n1 += 1\n",
        "print(n0, n1)\n",
        "\n",
        "n0 = 0\n",
        "n1 = 0\n",
        "for sample in y_test:\n",
        "  if sample[0] > 0: n0 += 1\n",
        "  else: n1 += 1\n",
        "print(n0, n1)"
      ],
      "cell_type": "code",
      "execution_count": 154,
      "outputs": [
        {
          "output_type": "stream",
          "text": [
            "119078 120765\n",
            "1187 1236\n"
          ],
          "name": "stdout"
        }
      ]
    },
    {
      "metadata": {
        "id": "qYEN9FsdVL7c",
        "colab_type": "code",
        "colab": {
          "autoexec": {
            "startup": false,
            "wait_interval": 0
          }
        }
      },
      "source": [
        "import keras\n",
        "from keras.models import Model\n",
        "from keras.layers import Input\n",
        "from keras.layers import Dense, Conv2D, MaxPooling2D, Activation, \\\n",
        "                         ZeroPadding2D, BatchNormalization, Flatten, \\\n",
        "                         Dropout"
      ],
      "cell_type": "code",
      "execution_count": 0,
      "outputs": []
    },
    {
      "metadata": {
        "id": "M2yDBJgNb28t",
        "colab_type": "code",
        "colab": {
          "autoexec": {
            "startup": false,
            "wait_interval": 0
          }
        }
      },
      "source": [
        "def quickdraw_model(shape, drop=0.5): # How does it know # of classes?\n",
        "  X_input = Input(shape)\n",
        "  \n",
        "  X = ZeroPadding2D((1,1))(X_input)\n",
        "  \n",
        "  X = Conv2D(filters=16, kernel_size=(3,3), strides=(1,1), name = 'conv0')(X)\n",
        "  X = BatchNormalization(axis = 3, name = 'bn0')(X)\n",
        "  X = Dropout(drop)(X)\n",
        "  X = Activation('relu')(X)\n",
        "  \n",
        "  X = MaxPooling2D((2,2), name='max_pool0')(X) # X is 14 x 14\n",
        "  \n",
        "  X = ZeroPadding2D((3,3))(X)\n",
        "  \n",
        "  X = Conv2D(filters=32, kernel_size=(7,7), strides=(1,1), name = 'conv1')(X)\n",
        "  X = BatchNormalization(axis = 3, name = 'bn1')(X)\n",
        "  X = Dropout(drop)(X)\n",
        "  X = Activation('relu')(X)\n",
        "  \n",
        "  X = MaxPooling2D((2,2), name='max_pool1')(X) # X is 7 x 7\n",
        "  \n",
        "  X = Flatten()(X)\n",
        "  X = Dense(units=2, activation='sigmoid', name='fc0')(X)\n",
        "  \n",
        "  model = Model(inputs=X_input, outputs=X, name='QuickdrawModel')\n",
        "  \n",
        "  return model"
      ],
      "cell_type": "code",
      "execution_count": 0,
      "outputs": []
    },
    {
      "metadata": {
        "id": "aUyv1xzRjxX6",
        "colab_type": "code",
        "colab": {
          "autoexec": {
            "startup": false,
            "wait_interval": 0
          }
        }
      },
      "source": [
        "model = quickdraw_model((k, k, 1))\n",
        "model.compile(optimizer = \"Adam\", loss = \"binary_crossentropy\", metrics = [\"accuracy\"])"
      ],
      "cell_type": "code",
      "execution_count": 0,
      "outputs": []
    },
    {
      "metadata": {
        "id": "jT7FW9KkqIvO",
        "colab_type": "code",
        "colab": {
          "autoexec": {
            "startup": false,
            "wait_interval": 0
          },
          "output_extras": [
            {
              "item_id": 481
            },
            {
              "item_id": 482
            }
          ],
          "base_uri": "https://localhost:8080/",
          "height": 72
        },
        "outputId": "66f0d23a-5294-4875-98b6-58d1127aa01e",
        "executionInfo": {
          "status": "ok",
          "timestamp": 1514844209143,
          "user_tz": 300,
          "elapsed": 693640,
          "user": {
            "displayName": "George Zhang",
            "photoUrl": "//lh6.googleusercontent.com/-9PqbapyYYJU/AAAAAAAAAAI/AAAAAAAACcI/M5sw0u4rr-g/s50-c-k-no/photo.jpg",
            "userId": "116297170449001352312"
          }
        }
      },
      "source": [
        "model.fit(x=X_train, y=y_train, epochs=1, batch_size=500)"
      ],
      "cell_type": "code",
      "execution_count": 151,
      "outputs": [
        {
          "output_type": "stream",
          "text": [
            "Epoch 1/1\n",
            "239843/239843 [==============================] - 692s 3ms/step - loss: 0.0707 - acc: 0.9743\n"
          ],
          "name": "stdout"
        },
        {
          "output_type": "execute_result",
          "data": {
            "text/plain": [
              "<keras.callbacks.History at 0x7fec7c7815c0>"
            ]
          },
          "metadata": {
            "tags": []
          },
          "execution_count": 151
        }
      ]
    },
    {
      "metadata": {
        "id": "vnNeBikrlpVU",
        "colab_type": "code",
        "colab": {
          "autoexec": {
            "startup": false,
            "wait_interval": 0
          }
        }
      },
      "source": [
        "# Model without dropout, 8 and 16 conv filters respectively\n",
        "# model.fit(x=X_train, y=y_train, epochs=1, batch_size=500) \n",
        "# Epoch 1/1\n",
        "# 239843/239843 [==============================] - 328s 1ms/step - loss: 0.0732 - acc: 0.9721\n",
        "# <keras.callbacks.History at 0x7fec7fee1a90>\n",
        "# 2423/2423 [==============================] - 1s 550us/step\n",
        "# Loss = 0.459567809014\n",
        "# Test Accuracy = 0.811390837534\n",
        "\n",
        "# Model with dropout, 16 and 32 conv filters respectively\n",
        "# Epoch 1/1\n",
        "# 239843/239843 [==============================] - 692s 3ms/step - loss: 0.0707 - acc: 0.9743\n",
        "# <keras.callbacks.History at 0x7fec7c7815c0>\n",
        "# 2423/2423 [==============================] - 3s 1ms/step\n",
        "# Loss = 0.342920201527\n",
        "# Test Accuracy = 0.841312422813\n",
        "\n"
      ],
      "cell_type": "code",
      "execution_count": 0,
      "outputs": []
    },
    {
      "metadata": {
        "id": "wqOLoVe8mfQ4",
        "colab_type": "code",
        "colab": {
          "autoexec": {
            "startup": false,
            "wait_interval": 0
          },
          "output_extras": [
            {
              "item_id": 3
            }
          ],
          "base_uri": "https://localhost:8080/",
          "height": 90
        },
        "outputId": "b12a1b64-5461-48e5-8749-15f8ce978074",
        "executionInfo": {
          "status": "ok",
          "timestamp": 1514844213427,
          "user_tz": 300,
          "elapsed": 3073,
          "user": {
            "displayName": "George Zhang",
            "photoUrl": "//lh6.googleusercontent.com/-9PqbapyYYJU/AAAAAAAAAAI/AAAAAAAACcI/M5sw0u4rr-g/s50-c-k-no/photo.jpg",
            "userId": "116297170449001352312"
          }
        }
      },
      "source": [
        "preds = model.evaluate(x=X_test, y=y_test)\n",
        "### END CODE HERE ###\n",
        "print()\n",
        "print(\"Loss = \" + str(preds[0]))\n",
        "print(\"Test Accuracy = \" + str(preds[1]))\n",
        "# Why is the test accuracy so low even though the train acc is 97% on one epoch?"
      ],
      "cell_type": "code",
      "execution_count": 152,
      "outputs": [
        {
          "output_type": "stream",
          "text": [
            "2423/2423 [==============================] - 3s 1ms/step\n",
            "\n",
            "Loss = 0.342920201527\n",
            "Test Accuracy = 0.841312422813\n"
          ],
          "name": "stdout"
        }
      ]
    },
    {
      "metadata": {
        "id": "5K3ZdNRipbfZ",
        "colab_type": "code",
        "colab": {
          "autoexec": {
            "startup": false,
            "wait_interval": 0
          },
          "output_extras": [
            {
              "item_id": 1
            }
          ],
          "base_uri": "https://localhost:8080/",
          "height": 571
        },
        "outputId": "8946ac9e-5fb9-4bab-acd6-0d0fad799a6b",
        "executionInfo": {
          "status": "error",
          "timestamp": 1514844645981,
          "user_tz": 300,
          "elapsed": 651,
          "user": {
            "displayName": "George Zhang",
            "photoUrl": "//lh6.googleusercontent.com/-9PqbapyYYJU/AAAAAAAAAAI/AAAAAAAACcI/M5sw0u4rr-g/s50-c-k-no/photo.jpg",
            "userId": "116297170449001352312"
          }
        }
      },
      "source": [
        "model.save('quickdraw_model.h5')"
      ],
      "cell_type": "code",
      "execution_count": 158,
      "outputs": [
        {
          "output_type": "error",
          "ename": "ImportError",
          "evalue": "ignored",
          "traceback": [
            "\u001b[0;31m---------------------------------------------------------------------------\u001b[0m",
            "\u001b[0;31mImportError\u001b[0m                               Traceback (most recent call last)",
            "\u001b[0;32m<ipython-input-158-11a11fc51dac>\u001b[0m in \u001b[0;36m<module>\u001b[0;34m()\u001b[0m\n\u001b[0;32m----> 1\u001b[0;31m \u001b[0mmodel\u001b[0m\u001b[0;34m.\u001b[0m\u001b[0msave\u001b[0m\u001b[0;34m(\u001b[0m\u001b[0;34m'quickdraw_model.h5'\u001b[0m\u001b[0;34m)\u001b[0m\u001b[0;34m\u001b[0m\u001b[0m\n\u001b[0m",
            "\u001b[0;32m/usr/local/lib/python3.6/dist-packages/keras/engine/topology.py\u001b[0m in \u001b[0;36msave\u001b[0;34m(self, filepath, overwrite, include_optimizer)\u001b[0m\n\u001b[1;32m   2554\u001b[0m         \"\"\"\n\u001b[1;32m   2555\u001b[0m         \u001b[0;32mfrom\u001b[0m \u001b[0;34m.\u001b[0m\u001b[0;34m.\u001b[0m\u001b[0mmodels\u001b[0m \u001b[0;32mimport\u001b[0m \u001b[0msave_model\u001b[0m\u001b[0;34m\u001b[0m\u001b[0m\n\u001b[0;32m-> 2556\u001b[0;31m         \u001b[0msave_model\u001b[0m\u001b[0;34m(\u001b[0m\u001b[0mself\u001b[0m\u001b[0;34m,\u001b[0m \u001b[0mfilepath\u001b[0m\u001b[0;34m,\u001b[0m \u001b[0moverwrite\u001b[0m\u001b[0;34m,\u001b[0m \u001b[0minclude_optimizer\u001b[0m\u001b[0;34m)\u001b[0m\u001b[0;34m\u001b[0m\u001b[0m\n\u001b[0m\u001b[1;32m   2557\u001b[0m \u001b[0;34m\u001b[0m\u001b[0m\n\u001b[1;32m   2558\u001b[0m     \u001b[0;32mdef\u001b[0m \u001b[0msave_weights\u001b[0m\u001b[0;34m(\u001b[0m\u001b[0mself\u001b[0m\u001b[0;34m,\u001b[0m \u001b[0mfilepath\u001b[0m\u001b[0;34m,\u001b[0m \u001b[0moverwrite\u001b[0m\u001b[0;34m=\u001b[0m\u001b[0;32mTrue\u001b[0m\u001b[0;34m)\u001b[0m\u001b[0;34m:\u001b[0m\u001b[0;34m\u001b[0m\u001b[0m\n",
            "\u001b[0;32m/usr/local/lib/python3.6/dist-packages/keras/models.py\u001b[0m in \u001b[0;36msave_model\u001b[0;34m(model, filepath, overwrite, include_optimizer)\u001b[0m\n\u001b[1;32m     55\u001b[0m \u001b[0;34m\u001b[0m\u001b[0m\n\u001b[1;32m     56\u001b[0m     \u001b[0;32mif\u001b[0m \u001b[0mh5py\u001b[0m \u001b[0;32mis\u001b[0m \u001b[0;32mNone\u001b[0m\u001b[0;34m:\u001b[0m\u001b[0;34m\u001b[0m\u001b[0m\n\u001b[0;32m---> 57\u001b[0;31m         \u001b[0;32mraise\u001b[0m \u001b[0mImportError\u001b[0m\u001b[0;34m(\u001b[0m\u001b[0;34m'`save_model` requires h5py.'\u001b[0m\u001b[0;34m)\u001b[0m\u001b[0;34m\u001b[0m\u001b[0m\n\u001b[0m\u001b[1;32m     58\u001b[0m \u001b[0;34m\u001b[0m\u001b[0m\n\u001b[1;32m     59\u001b[0m     \u001b[0;32mdef\u001b[0m \u001b[0mget_json_type\u001b[0m\u001b[0;34m(\u001b[0m\u001b[0mobj\u001b[0m\u001b[0;34m)\u001b[0m\u001b[0;34m:\u001b[0m\u001b[0;34m\u001b[0m\u001b[0m\n",
            "\u001b[0;31mImportError\u001b[0m: `save_model` requires h5py.",
            "",
            "\u001b[0;31m---------------------------------------------------------------------------\u001b[0;32m\nNOTE: If your import is failing due to a missing package, you can\nmanually install dependencies using either !pip or !apt.\n\nExamples of installing some common dependencies can be found at:\nhttps://colab.research.google.com/notebook#fileId=/v2/external/notebooks/snippets/importing_libraries.ipynb\n\u001b[0;31m---------------------------------------------------------------------------\u001b[0m\n"
          ]
        }
      ]
    },
    {
      "metadata": {
        "id": "l7gAPwRCxmdh",
        "colab_type": "code",
        "colab": {
          "autoexec": {
            "startup": false,
            "wait_interval": 0
          }
        }
      },
      "source": [
        ""
      ],
      "cell_type": "code",
      "execution_count": 0,
      "outputs": []
    }
  ]
}
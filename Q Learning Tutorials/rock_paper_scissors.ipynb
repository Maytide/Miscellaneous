{
  "nbformat": 4,
  "nbformat_minor": 0,
  "metadata": {
    "colab": {
      "name": "rock_paper_scissors.ipynb",
      "version": "0.3.2",
      "views": {},
      "default_view": {},
      "provenance": []
    },
    "kernelspec": {
      "name": "python3",
      "display_name": "Python 3"
    }
  },
  "cells": [
    {
      "metadata": {
        "id": "lzrzn9jQ7pYg",
        "colab_type": "code",
        "colab": {
          "autoexec": {
            "startup": false,
            "wait_interval": 0
          }
        }
      },
      "cell_type": "code",
      "source": [
        "import random\n",
        "import numpy as np\n",
        "import matplotlib.pyplot as plt\n",
        "%matplotlib inline"
      ],
      "execution_count": 0,
      "outputs": []
    },
    {
      "metadata": {
        "id": "8_RI-qA37q3P",
        "colab_type": "code",
        "colab": {
          "autoexec": {
            "startup": false,
            "wait_interval": 0
          }
        }
      },
      "cell_type": "code",
      "source": [
        "# For some reason, probabilities don't make sense for some settings.\n",
        "# env = RockPaperScissors(1/3, 1/3+epsilon, 1/3-epsilon) -- ~ 0/80/20 split\n",
        "# env = RockPaperScissors(1/3, 1/3-epsilon, 1/3+epsilon) -- ~ 100/0/0 split\n",
        "class RockPaperScissors():\n",
        "  def __init__(self, p_rock, p_paper, p_scissors):\n",
        "    # 0: rock, 1: paper, 2:scissors\n",
        "    t = p_rock + p_paper + p_scissors\n",
        "    self.p_rock = p_rock / t\n",
        "    self.p_paper = p_paper / t\n",
        "    self.p_scissors = p_scissors / t\n",
        "    print([0,self.p_rock],[self.p_rock,self.p_rock + self.p_paper])\n",
        "    # print(self.p_rock, self.p_paper, self.p_scissors)\n",
        "    \n",
        "  def play(self, a):\n",
        "    r = 0\n",
        "    s = 0\n",
        "    \n",
        "    k = random.uniform(0,1)\n",
        "    if 0 <= k <= self.p_rock:\n",
        "      m = 0\n",
        "    elif self.p_rock <= k <= (self.p_rock + self.p_paper):\n",
        "      m = 1\n",
        "    else:\n",
        "      m = 2\n",
        "      \n",
        "    if (a-m) % 3 == 1:\n",
        "      r = 1\n",
        "    elif (m-a) % 3 == 1:\n",
        "      r = -1\n",
        "    \n",
        "    return s, r, 1, 1\n",
        "  \n",
        "  def reset(self):\n",
        "    return 0"
      ],
      "execution_count": 0,
      "outputs": []
    },
    {
      "metadata": {
        "id": "QnlLi0p3Cd2z",
        "colab_type": "code",
        "colab": {
          "autoexec": {
            "startup": false,
            "wait_interval": 0
          },
          "output_extras": [
            {
              "item_id": 1
            }
          ],
          "base_uri": "https://localhost:8080/",
          "height": 53
        },
        "outputId": "5ae42da7-c025-41e5-86a3-6426e21a585f",
        "executionInfo": {
          "status": "ok",
          "timestamp": 1521917649065,
          "user_tz": 240,
          "elapsed": 430,
          "user": {
            "displayName": "GEORGE ZHANG",
            "photoUrl": "https://lh3.googleusercontent.com/a/default-user=s128",
            "userId": "114627961326595340736"
          }
        }
      },
      "cell_type": "code",
      "source": [
        "# Probability of playing rock/paper/scissors\n",
        "# env = RockPaperScissors(0.5, 0.25, 0.25)\n",
        "epsilon = 1e-1\n",
        "print(1/3+epsilon)\n",
        "env = RockPaperScissors(1/3, 1/3+epsilon, 1/3-epsilon)"
      ],
      "execution_count": 216,
      "outputs": [
        {
          "output_type": "stream",
          "text": [
            "0.43333333333333335\n",
            "[0, 0.33333333333333337] [0.33333333333333337, 0.7666666666666668]\n"
          ],
          "name": "stdout"
        }
      ]
    },
    {
      "metadata": {
        "id": "iT_S7lKq7ug0",
        "colab_type": "code",
        "colab": {
          "autoexec": {
            "startup": false,
            "wait_interval": 0
          }
        }
      },
      "cell_type": "code",
      "source": [
        "def simulate():\n",
        "  #Initialize table with all zeros\n",
        "  Q = np.zeros([1,3])\n",
        "  # Set learning parameters\n",
        "  lr = .8\n",
        "  y = .95\n",
        "  num_episodes = 2500\n",
        "  #create lists to contain total rewards and steps per episode\n",
        "  #jList = []\n",
        "  rList = []; aList = []\n",
        "  for i in range(num_episodes):\n",
        "      #Reset environment and get first new observation\n",
        "      s = env.reset()\n",
        "      rAll = 0\n",
        "\n",
        "      #The Q-Table learning algorithm\n",
        "      #Choose an action by greedily (with noise) picking from Q table\n",
        "      a = np.argmax(Q[s,:] + np.random.uniform(1,3)*(1./(i+1)**0.5))\n",
        "      #Get new state and reward from environment\n",
        "      s1,r,_,__ = env.play(a)\n",
        "      #Update Q-Table with new knowledge; all same state (s=0)\n",
        "      Q[s,a] = Q[s,a] + lr*(r + y*np.max(Q[s,:]) - Q[s,a]) # not sure if this line is correct, since only one state now.\n",
        "      rAll += r\n",
        "\n",
        "      rList.append(rAll)\n",
        "      aList.append(a)\n",
        "      \n",
        "  return Q, rList, aList\n",
        "Q, rList, aList = simulate()"
      ],
      "execution_count": 0,
      "outputs": []
    },
    {
      "metadata": {
        "id": "0rbobCYv7xKg",
        "colab_type": "code",
        "colab": {
          "autoexec": {
            "startup": false,
            "wait_interval": 0
          },
          "output_extras": [
            {
              "item_id": 1
            }
          ],
          "base_uri": "https://localhost:8080/",
          "height": 72
        },
        "outputId": "dbf68c39-a3a6-44db-ee73-4c5d87bc3649",
        "executionInfo": {
          "status": "ok",
          "timestamp": 1521913829020,
          "user_tz": 240,
          "elapsed": 303,
          "user": {
            "displayName": "GEORGE ZHANG",
            "photoUrl": "https://lh3.googleusercontent.com/a/default-user=s128",
            "userId": "114627961326595340736"
          }
        }
      },
      "cell_type": "code",
      "source": [
        "print(\"Score over time: \", str(sum(rList)/num_episodes))\n",
        "print(\"Final Q-Table Values:\")\n",
        "print(Q)"
      ],
      "execution_count": 130,
      "outputs": [
        {
          "output_type": "stream",
          "text": [
            "Score over time:  0.0088\n",
            "Final Q-Table Values:\n",
            "[[-0.9029037  -7.28814648 -7.29544691]]\n"
          ],
          "name": "stdout"
        }
      ]
    },
    {
      "metadata": {
        "id": "zVh-ZxKfDThs",
        "colab_type": "code",
        "colab": {
          "autoexec": {
            "startup": false,
            "wait_interval": 0
          },
          "output_extras": [
            {
              "item_id": 1
            },
            {
              "item_id": 2
            }
          ],
          "base_uri": "https://localhost:8080/",
          "height": 283
        },
        "outputId": "deb94bb4-451c-4755-aa58-07225a0ce242",
        "executionInfo": {
          "status": "ok",
          "timestamp": 1521913830986,
          "user_tz": 240,
          "elapsed": 810,
          "user": {
            "displayName": "GEORGE ZHANG",
            "photoUrl": "https://lh3.googleusercontent.com/a/default-user=s128",
            "userId": "114627961326595340736"
          }
        }
      },
      "cell_type": "code",
      "source": [
        "plt.plot(rList)"
      ],
      "execution_count": 131,
      "outputs": [
        {
          "output_type": "execute_result",
          "data": {
            "text/plain": [
              "[<matplotlib.lines.Line2D at 0x7f3cf8fd9828>]"
            ]
          },
          "metadata": {
            "tags": []
          },
          "execution_count": 131
        },
        {
          "output_type": "display_data",
          "data": {
            "image/png": "[encoded data removed]",
            "text/plain": [
              "<matplotlib.figure.Figure at 0x7f3cf90272e8>"
            ]
          },
          "metadata": {
            "tags": []
          }
        }
      ]
    },
    {
      "metadata": {
        "id": "3S2FgpCLDpmO",
        "colab_type": "code",
        "colab": {
          "autoexec": {
            "startup": false,
            "wait_interval": 0
          },
          "output_extras": [
            {
              "item_id": 1
            }
          ],
          "base_uri": "https://localhost:8080/",
          "height": 110
        },
        "outputId": "78f5feda-6cd2-4f43-f619-5294cdb79857",
        "executionInfo": {
          "status": "ok",
          "timestamp": 1521913832783,
          "user_tz": 240,
          "elapsed": 274,
          "user": {
            "displayName": "GEORGE ZHANG",
            "photoUrl": "https://lh3.googleusercontent.com/a/default-user=s128",
            "userId": "114627961326595340736"
          }
        }
      },
      "cell_type": "code",
      "source": [
        "print(aList[:200])\n",
        "print(aList[200:400])\n",
        "print(aList[4800:])\n",
        "\n",
        "print(aList.count(0), aList.count(1), aList.count(2))"
      ],
      "execution_count": 132,
      "outputs": [
        {
          "output_type": "stream",
          "text": [
            "[1, 1, 2, 1, 2, 2, 2, 0, 0, 2, 2, 2, 2, 2, 0, 0, 0, 0, 0, 0, 0, 0, 0, 2, 0, 0, 0, 0, 0, 0, 0, 0, 0, 0, 0, 0, 0, 0, 0, 0, 0, 0, 0, 0, 0, 0, 0, 0, 0, 0, 0, 0, 0, 0, 0, 0, 0, 0, 0, 2, 2, 0, 0, 0, 0, 0, 0, 2, 2, 1, 1, 2, 0, 0, 0, 2, 1, 1, 1, 1, 1, 1, 1, 1, 1, 1, 1, 1, 1, 1, 1, 1, 1, 1, 1, 1, 1, 1, 1, 1, 1, 1, 1, 1, 1, 1, 2, 0, 0, 0, 0, 0, 0, 0, 0, 0, 0, 0, 0, 0, 0, 0, 0, 0, 0, 0, 0, 0, 0, 0, 0, 0, 0, 0, 0, 0, 0, 0, 0, 0, 0, 0, 0, 0, 0, 0, 0, 0, 0, 0, 0, 0, 0, 0, 0, 0, 0, 0, 0, 0, 0, 0, 0, 0, 0, 0, 0, 0, 0, 0, 0, 0, 0, 0, 0, 0, 0, 0, 0, 0, 1, 1, 1, 1, 1, 1, 1, 1, 1, 1, 1, 1, 1, 1, 1, 1, 1, 1, 1, 1]\n",
            "[1, 1, 1, 1, 1, 2, 2, 2, 2, 2, 2, 2, 2, 2, 2, 2, 2, 2, 2, 2, 2, 2, 2, 2, 2, 2, 2, 2, 2, 2, 2, 2, 2, 2, 2, 2, 2, 2, 2, 2, 2, 2, 2, 2, 2, 2, 2, 0, 0, 0, 0, 0, 0, 0, 0, 0, 0, 0, 0, 0, 0, 0, 0, 0, 0, 0, 0, 0, 0, 0, 0, 0, 0, 0, 0, 0, 2, 2, 1, 1, 1, 1, 1, 1, 1, 1, 1, 1, 1, 1, 1, 1, 1, 1, 1, 1, 1, 1, 1, 1, 1, 1, 1, 1, 1, 1, 1, 1, 1, 1, 1, 1, 1, 1, 1, 1, 1, 1, 1, 1, 1, 1, 1, 1, 1, 1, 1, 1, 1, 1, 1, 1, 1, 1, 1, 1, 1, 1, 1, 1, 1, 1, 1, 1, 1, 1, 1, 1, 1, 1, 1, 1, 1, 1, 1, 1, 1, 1, 1, 1, 1, 1, 1, 1, 1, 1, 1, 1, 1, 1, 1, 1, 1, 1, 1, 1, 1, 1, 1, 1, 1, 1, 1, 1, 1, 1, 1, 1, 1, 1, 1, 1, 1, 1, 1, 1, 1, 1, 1, 1]\n",
            "[0, 0, 0, 0, 0, 0, 0, 0, 0, 0, 0, 0, 0, 0, 0, 0, 0, 0, 0, 0, 0, 0, 0, 0, 0, 0, 0, 0, 0, 0, 0, 0, 0, 0, 0, 0, 0, 0, 0, 0, 0, 0, 0, 0, 0, 0, 0, 0, 0, 0, 0, 0, 0, 0, 0, 0, 0, 0, 0, 0, 0, 0, 0, 0, 0, 0, 0, 0, 0, 0, 0, 0, 0, 0, 0, 0, 0, 0, 0, 0, 0, 0, 0, 0, 0, 0, 0, 0, 0, 0, 0, 0, 0, 0, 0, 0, 0, 0, 0, 0, 0, 0, 0, 0, 0, 0, 0, 0, 0, 0, 0, 0, 0, 0, 0, 0, 0, 0, 0, 0, 0, 0, 0, 0, 0, 0, 0, 0, 0, 0, 0, 0, 0, 0, 0, 0, 0, 0, 0, 0, 0, 0, 0, 0, 0, 0, 0, 0, 0, 0, 0, 0, 0, 0, 0, 0, 0, 0, 0, 0, 0, 0, 0, 0, 0, 0, 0, 0, 0, 0, 0, 0, 0, 0, 0, 0, 0, 0, 0, 0, 0, 0, 0, 0, 0, 0, 0, 0, 0, 0, 0, 0, 0, 0, 0, 0, 0, 0, 0, 0]\n",
            "2719 1466 815\n"
          ],
          "name": "stdout"
        }
      ]
    },
    {
      "metadata": {
        "id": "OE6SYIvaDwyd",
        "colab_type": "code",
        "colab": {
          "autoexec": {
            "startup": false,
            "wait_interval": 0
          },
          "output_extras": [
            {
              "item_id": 19
            }
          ],
          "base_uri": "https://localhost:8080/",
          "height": 235
        },
        "outputId": "0ce4c3c2-1884-45af-a592-472769552ce1",
        "executionInfo": {
          "status": "ok",
          "timestamp": 1521917661477,
          "user_tz": 240,
          "elapsed": 4876,
          "user": {
            "displayName": "GEORGE ZHANG",
            "photoUrl": "https://lh3.googleusercontent.com/a/default-user=s128",
            "userId": "114627961326595340736"
          }
        }
      },
      "cell_type": "code",
      "source": [
        "M = [0,0,0]\n",
        "for i in range(100):\n",
        "  Q, rList, aList = simulate()\n",
        "  A = [aList.count(0), aList.count(1), aList.count(2)]\n",
        "  m = A.index(max(A))\n",
        "  print(m, ':', A, end=' ')\n",
        "  if (i+1) % 10 == 0:\n",
        "    print()\n",
        "  M[m] += 1\n",
        "print()\n",
        "print(M)"
      ],
      "execution_count": 218,
      "outputs": [
        {
          "output_type": "stream",
          "text": [
            "2 : [63, 326, 2111] 1 : [54, 2002, 444] 1 : [19, 2397, 84] 1 : [74, 2417, 9] 1 : [50, 1673, 777] 1 : [76, 1791, 633] 1 : [16, 2418, 66] 1 : [26, 2421, 53] 1 : [17, 1604, 879] 1 : [78, 2299, 123] \n",
            "1 : [146, 2187, 167] 2 : [101, 668, 1731] 2 : [29, 263, 2208] 1 : [9, 2249, 242] 1 : [7, 2442, 51] 1 : [51, 1718, 731] 1 : [132, 2210, 158] 1 : [16, 2412, 72] 2 : [193, 340, 1967] 1 : [12, 2127, 361] \n",
            "1 : [22, 1545, 933] 1 : [39, 2190, 271] 2 : [43, 1149, 1308] 1 : [64, 2078, 358] 1 : [42, 2163, 295] 1 : [41, 1576, 883] 1 : [84, 1746, 670] 1 : [39, 1235, 1226] 2 : [31, 674, 1795] 2 : [8, 937, 1555] \n",
            "1 : [10, 2091, 399] 1 : [31, 2002, 467] 2 : [29, 1031, 1440] 1 : [7, 1509, 984] 1 : [19, 2111, 370] 2 : [18, 826, 1656] 1 : [33, 2440, 27] 1 : [29, 1733, 738] 2 : [96, 347, 2057] 1 : [84, 2045, 371] \n",
            "1 : [9, 2331, 160] 1 : [54, 2254, 192] 1 : [15, 1516, 969] 1 : [27, 1917, 556] 1 : [7, 2341, 152] 1 : [24, 1372, 1104] 2 : [21, 1217, 1262] 1 : [33, 2273, 194] 1 : [31, 2340, 129] 2 : [36, 316, 2148] \n",
            "1 : [21, 2406, 73] 1 : [29, 2025, 446] 1 : [32, 1527, 941] 1 : [10, 1564, 926] 1 : [9, 1927, 564] 2 : [10, 191, 2299] 1 : [23, 1810, 667] 1 : [23, 2254, 223] 1 : [54, 2426, 20] 1 : [136, 1182, 1182] \n",
            "1 : [25, 1615, 860] 2 : [122, 755, 1623] 1 : [11, 2474, 15] 1 : [52, 1523, 925] 1 : [10, 2469, 21] 1 : [11, 1393, 1096] 2 : [18, 650, 1832] 1 : [55, 2387, 58] 1 : [20, 2053, 427] 1 : [11, 1950, 539] \n",
            "1 : [28, 2254, 218] 1 : [35, 2457, 8] 1 : [79, 2255, 166] 2 : [26, 20, 2454] 2 : [42, 338, 2120] 1 : [51, 1868, 581] 1 : [58, 2396, 46] 1 : [33, 2136, 331] 1 : [49, 2052, 399] 1 : [21, 2049, 430] \n",
            "1 : [32, 2212, 256] 2 : [47, 287, 2166] 2 : [90, 1108, 1302] 1 : [11, 1691, 798] 2 : [11, 800, 1689] 1 : [22, 1970, 508] 1 : [26, 2203, 271] 1 : [18, 2373, 109] 1 : [28, 2098, 374] 1 : [32, 1429, 1039] \n",
            "1 : [25, 1238, 1237] 1 : [76, 1956, 468] 2 : [17, 752, 1731] 1 : [12, 2462, 26] 1 : [117, 2277, 106] 2 : [34, 1189, 1277] 1 : [20, 1871, 609] 1 : [8, 1960, 532] 1 : [25, 2395, 80] 2 : [151, 475, 1874] \n",
            "\n",
            "[0, 77, 23]\n"
          ],
          "name": "stdout"
        }
      ]
    },
    {
      "metadata": {
        "id": "Y4f6N9OEJLee",
        "colab_type": "code",
        "colab": {
          "autoexec": {
            "startup": false,
            "wait_interval": 0
          }
        }
      },
      "cell_type": "code",
      "source": [
        ""
      ],
      "execution_count": 0,
      "outputs": []
    }
  ]
}
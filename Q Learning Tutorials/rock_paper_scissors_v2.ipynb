{
  "nbformat": 4,
  "nbformat_minor": 0,
  "metadata": {
    "colab": {
      "name": "rock_paper_scissors_v2.ipynb",
      "version": "0.3.2",
      "views": {},
      "default_view": {},
      "provenance": []
    },
    "kernelspec": {
      "name": "python3",
      "display_name": "Python 3"
    }
  },
  "cells": [
    {
      "metadata": {
        "id": "PWIn94AFbYwj",
        "colab_type": "code",
        "colab": {
          "autoexec": {
            "startup": false,
            "wait_interval": 0
          }
        }
      },
      "cell_type": "code",
      "source": [
        "import random\n",
        "import numpy as np\n",
        "import matplotlib.pyplot as plt\n",
        "%matplotlib inline"
      ],
      "execution_count": 0,
      "outputs": []
    },
    {
      "metadata": {
        "id": "NVwmlHaGbyL7",
        "colab_type": "code",
        "colab": {
          "autoexec": {
            "startup": false,
            "wait_interval": 0
          }
        }
      },
      "cell_type": "code",
      "source": [
        "class RockPaperScissors():\n",
        "  def __init__(self, lr = .8, y = .95, rock=.5, paper=.5, scissors=0):\n",
        "    self.rock = rock\n",
        "    self.paper = paper\n",
        "    self.scissors = scissors\n",
        "    self.Q = np.zeros([1,3]) + np.array([1,1,1])\n",
        "    \n",
        "    self.lr = lr\n",
        "    self.y = y\n",
        "    \n",
        "  def reset(self):\n",
        "    self.rock = .5\n",
        "    self.paper = .5\n",
        "    self.scissors = 0\n",
        "    self.Q = np.zeros([1,3])\n",
        "    \n",
        "    return 0\n",
        "    \n",
        "  def play(self, i, s=0):\n",
        "    t = np.zeros([1,3])\n",
        "    t[s,0] = self.Q[s,0] + np.random.uniform(low=-1,high=1) #*(1./(i+1)**0.2)\n",
        "    t[s,1] = self.Q[s,1] + np.random.uniform(low=-1,high=1) #*(1./(i+1)**0.2)\n",
        "    t[s,2] = self.Q[s,2] + np.random.uniform(low=-1,high=1) #*(1./(i+1)**0.2)\n",
        "    a = np.argmax(t)\n",
        "    if i < 10 and False:\n",
        "      # print('a:', a, 't:', t)\n",
        "      pass\n",
        "    return a\n",
        "  \n",
        "  def play_random(self, i=0):\n",
        "    k = random.uniform(0,1)\n",
        "    if 0 <= k <= self.rock:\n",
        "      m = 0\n",
        "    elif self.rock <= k <= (self.rock + self.paper):\n",
        "      m = 1\n",
        "    else:\n",
        "      m = 2\n",
        "      \n",
        "    return m\n",
        "  \n",
        "  def update(self, result, a, s=0):\n",
        "    lr = self.lr\n",
        "    y = self.y\n",
        "    self.Q[s,a] = self.Q[s,a] + lr*(result + y*np.max(self.Q[s,:]) - self.Q[s,a]) # not sure if this line is correct, since only one state now.\n",
        "    return 0\n",
        "  \n",
        "  def getParams(self):\n",
        "    return self.Q\n",
        "  "
      ],
      "execution_count": 0,
      "outputs": []
    },
    {
      "metadata": {
        "id": "etQbiJbigynd",
        "colab_type": "code",
        "colab": {
          "autoexec": {
            "startup": false,
            "wait_interval": 0
          }
        }
      },
      "cell_type": "code",
      "source": [
        "def simulate_random(num_episodes=2000, rock=.5, paper=.5, scissors=0):\n",
        "  p1 = RockPaperScissors()\n",
        "  p2 = RockPaperScissors(rock=rock, paper=paper, scissors=scissors)\n",
        "  \n",
        "  aList = []\n",
        "  m1List = []\n",
        "  m2List = []\n",
        "  Q1List = []\n",
        "  Q2List = []\n",
        "  for i in range(num_episodes):\n",
        "    m1 = p1.play(i)\n",
        "    m2 = p2.play_random(i)\n",
        "    \n",
        "    r1 = 0; r2 = 0\n",
        "    if (m1-m2) % 3 == 1:\n",
        "      r1 = 1; r2 = -1\n",
        "    elif (m2-m1) % 3 == 1:\n",
        "      r1 = -1; r2 = 1\n",
        "     \n",
        "    m1List.append(m1)\n",
        "    m2List.append(m2)\n",
        "    aList.append((m1,m2))\n",
        "    Q1List.append(p1.getParams())\n",
        "    Q2List.append(p2.getParams())\n",
        "    \n",
        "    p1.update(r1, m1)\n",
        "#     if i >= 1990:\n",
        "#       print(p1.getParams(), p2.getParams())\n",
        "#       print(m1, m2, r1, r2)\n",
        "  return aList, m1List, m2List, Q1List, Q2List"
      ],
      "execution_count": 0,
      "outputs": []
    },
    {
      "metadata": {
        "id": "MMAramv4fcg3",
        "colab_type": "code",
        "colab": {
          "autoexec": {
            "startup": false,
            "wait_interval": 0
          }
        }
      },
      "cell_type": "code",
      "source": [
        "def simulate(num_episodes=2000):\n",
        "  p1 = RockPaperScissors()\n",
        "  p2 = RockPaperScissors()\n",
        "  \n",
        "  aList = []\n",
        "  m1List = []\n",
        "  m2List = []\n",
        "  Q1List = []\n",
        "  Q2List = []\n",
        "  for i in range(num_episodes):\n",
        "    m1 = p1.play(i)\n",
        "    m2 = p2.play(i)\n",
        "    \n",
        "    r1 = 0; r2 = 0\n",
        "    if (m1-m2) % 3 == 1:\n",
        "      r1 = 1; r2 = -1\n",
        "    elif (m2-m1) % 3 == 1:\n",
        "      r1 = -1; r2 = 1\n",
        "     \n",
        "    m1List.append(m1)\n",
        "    m2List.append(m2)\n",
        "    aList.append((m1,m2))\n",
        "    Q1List.append(p1.getParams())\n",
        "    Q2List.append(p2.getParams())\n",
        "    \n",
        "    p1.update(r1, m1)\n",
        "    p2.update(r2, m2)\n",
        "#     if i >= 1990:\n",
        "#       print(p1.getParams(), p2.getParams())\n",
        "#       print(m1, m2, r1, r2)\n",
        "  return aList, m1List, m2List, Q1List, Q2List\n",
        "\n"
      ],
      "execution_count": 0,
      "outputs": []
    },
    {
      "metadata": {
        "id": "RcBur5fOizlU",
        "colab_type": "text"
      },
      "cell_type": "markdown",
      "source": [
        "Agent vs random with p=(1/2,1/2,0)"
      ]
    },
    {
      "metadata": {
        "id": "4eW1MbmHuZHM",
        "colab_type": "code",
        "colab": {
          "autoexec": {
            "startup": false,
            "wait_interval": 0
          },
          "output_extras": [
            {
              "item_id": 3
            }
          ],
          "base_uri": "https://localhost:8080/",
          "height": 344
        },
        "outputId": "b233be9b-df59-4e8f-afba-22400d6888d6",
        "executionInfo": {
          "status": "ok",
          "timestamp": 1522155297195,
          "user_tz": 240,
          "elapsed": 864,
          "user": {
            "displayName": "GEORGE ZHANG",
            "photoUrl": "https://lh3.googleusercontent.com/a/default-user=s128",
            "userId": "114627961326595340736"
          }
        }
      },
      "cell_type": "code",
      "source": [
        "M = [0,0,0]\n",
        "for i in range(15):\n",
        "  aList, m1List, m2List, Q1List, Q2List = simulate_random()\n",
        "  A1 = [m1List.count(0), m1List.count(1), m1List.count(2)]\n",
        "  m1c = A1.index(max(A1))\n",
        "  print(m1c, ':', A1, end=' ')\n",
        "  A2 = [m2List.count(0), m2List.count(1), m2List.count(2)]\n",
        "  m2c = A2.index(max(A2))\n",
        "  print(m2c, ':', A2, end=' ')\n",
        "  print()\n",
        "  # print(Q1List[-5:], Q2List[-5:])\n",
        "  if (i+1) % 10 == 0:\n",
        "    print()\n",
        "    # print(m1List[:100])\n",
        "    # print(m2List[:100])\n",
        "    # print()\n",
        "  M[m1c] += 1\n",
        "print()\n",
        "print(M)"
      ],
      "execution_count": 27,
      "outputs": [
        {
          "output_type": "stream",
          "text": [
            "1 : [4, 1995, 1] 0 : [1010, 990, 0] \n",
            "1 : [1, 1995, 4] 0 : [1033, 967, 0] \n",
            "1 : [0, 1999, 1] 1 : [994, 1006, 0] \n",
            "1 : [1, 1999, 0] 1 : [975, 1025, 0] \n",
            "1 : [0, 1998, 2] 0 : [1032, 968, 0] \n",
            "1 : [2, 1997, 1] 0 : [1005, 995, 0] \n",
            "1 : [2, 1989, 9] 0 : [1008, 992, 0] \n",
            "1 : [4, 1983, 13] 1 : [994, 1006, 0] \n",
            "1 : [3, 1997, 0] 1 : [972, 1028, 0] \n",
            "1 : [5, 1995, 0] 0 : [1020, 980, 0] \n",
            "\n",
            "1 : [2, 1996, 2] 1 : [972, 1028, 0] \n",
            "1 : [0, 1999, 1] 0 : [1023, 977, 0] \n",
            "1 : [0, 1999, 1] 0 : [1028, 972, 0] \n",
            "1 : [1, 1997, 2] 1 : [973, 1027, 0] \n",
            "1 : [1, 1998, 1] 0 : [1014, 986, 0] \n",
            "\n",
            "[0, 15, 0]\n"
          ],
          "name": "stdout"
        }
      ]
    },
    {
      "metadata": {
        "id": "7BEBz79Gi82v",
        "colab_type": "text"
      },
      "cell_type": "markdown",
      "source": [
        "Agent vs random with p=(.4,.3,.3)"
      ]
    },
    {
      "metadata": {
        "id": "_FoQimFriFbj",
        "colab_type": "code",
        "colab": {
          "autoexec": {
            "startup": false,
            "wait_interval": 0
          },
          "output_extras": [
            {
              "item_id": 3
            }
          ],
          "base_uri": "https://localhost:8080/",
          "height": 344
        },
        "outputId": "bcd3fc45-409f-4613-99e9-fca0a34f669d",
        "executionInfo": {
          "status": "ok",
          "timestamp": 1522155672273,
          "user_tz": 240,
          "elapsed": 909,
          "user": {
            "displayName": "GEORGE ZHANG",
            "photoUrl": "https://lh3.googleusercontent.com/a/default-user=s128",
            "userId": "114627961326595340736"
          }
        }
      },
      "cell_type": "code",
      "source": [
        "M = [0,0,0]\n",
        "for i in range(15):\n",
        "  aList, m1List, m2List, Q1List, Q2List = simulate_random(rock=.4, paper=.3, scissors=.3)\n",
        "  A1 = [m1List.count(0), m1List.count(1), m1List.count(2)]\n",
        "  m1c = A1.index(max(A1))\n",
        "  print(m1c, ':', A1, end=' ')\n",
        "  A2 = [m2List.count(0), m2List.count(1), m2List.count(2)]\n",
        "  m2c = A2.index(max(A2))\n",
        "  print(m2c, ':', A2, end=' ')\n",
        "  print()\n",
        "  # print(Q1List[-5:], Q2List[-5:])\n",
        "  if (i+1) % 10 == 0:\n",
        "    print()\n",
        "    # print(m1List[:100])\n",
        "    # print(m2List[:100])\n",
        "    # print()\n",
        "  M[m1c] += 1\n",
        "print()\n",
        "print(M)"
      ],
      "execution_count": 38,
      "outputs": [
        {
          "output_type": "stream",
          "text": [
            "1 : [200, 1405, 395] 0 : [774, 629, 597] \n",
            "1 : [593, 1245, 162] 0 : [790, 592, 618] \n",
            "1 : [365, 1507, 128] 0 : [797, 609, 594] \n",
            "1 : [508, 1246, 246] 0 : [809, 600, 591] \n",
            "1 : [206, 1550, 244] 0 : [838, 585, 577] \n",
            "1 : [463, 1256, 281] 0 : [798, 612, 590] \n",
            "1 : [477, 1301, 222] 0 : [823, 593, 584] \n",
            "1 : [684, 1043, 273] 0 : [773, 618, 609] \n",
            "1 : [544, 1106, 350] 0 : [757, 621, 622] \n",
            "0 : [875, 698, 427] 0 : [756, 633, 611] \n",
            "\n",
            "1 : [203, 1618, 179] 0 : [819, 610, 571] \n",
            "1 : [172, 1429, 399] 0 : [805, 602, 593] \n",
            "1 : [420, 1472, 108] 0 : [795, 591, 614] \n",
            "1 : [420, 1325, 255] 0 : [822, 599, 579] \n",
            "1 : [380, 1452, 168] 0 : [814, 612, 574] \n",
            "\n",
            "[1, 14, 0]\n"
          ],
          "name": "stdout"
        }
      ]
    },
    {
      "metadata": {
        "id": "K4AgaHCsjJ5P",
        "colab_type": "text"
      },
      "cell_type": "markdown",
      "source": [
        "Agent vs Agent optimal strategy: completely randomized\n",
        "(in agreement with linear programming solution from rock_paper_scissors.m)"
      ]
    },
    {
      "metadata": {
        "id": "4WtxEaYohrtp",
        "colab_type": "code",
        "colab": {
          "autoexec": {
            "startup": false,
            "wait_interval": 0
          },
          "output_extras": [
            {
              "item_id": 3
            }
          ],
          "base_uri": "https://localhost:8080/",
          "height": 344
        },
        "outputId": "7bd5bdc5-f4f8-464b-b408-cc67b98167e0",
        "executionInfo": {
          "status": "ok",
          "timestamp": 1522155314262,
          "user_tz": 240,
          "elapsed": 1166,
          "user": {
            "displayName": "GEORGE ZHANG",
            "photoUrl": "https://lh3.googleusercontent.com/a/default-user=s128",
            "userId": "114627961326595340736"
          }
        }
      },
      "cell_type": "code",
      "source": [
        "M = [0,0,0]\n",
        "for i in range(15):\n",
        "  aList, m1List, m2List, Q1List, Q2List = simulate()\n",
        "  A1 = [m1List.count(0), m1List.count(1), m1List.count(2)]\n",
        "  m1c = A1.index(max(A1))\n",
        "  print(m1c, ':', A1, end=' ')\n",
        "  A2 = [m2List.count(0), m2List.count(1), m2List.count(2)]\n",
        "  m2c = A2.index(max(A2))\n",
        "  print(m2c, ':', A2, end=' ')\n",
        "  print()\n",
        "  # print(Q1List[-5:], Q2List[-5:])\n",
        "  if (i+1) % 10 == 0:\n",
        "    print()\n",
        "    # print(m1List[:100])\n",
        "    # print(m2List[:100])\n",
        "    # print()\n",
        "  M[m1c] += 1\n",
        "print()\n",
        "print(M)"
      ],
      "execution_count": 28,
      "outputs": [
        {
          "output_type": "stream",
          "text": [
            "2 : [592, 655, 753] 2 : [566, 674, 760] \n",
            "2 : [616, 673, 711] 2 : [615, 680, 705] \n",
            "1 : [549, 778, 673] 1 : [576, 775, 649] \n",
            "2 : [560, 502, 938] 2 : [486, 636, 878] \n",
            "1 : [645, 692, 663] 1 : [649, 686, 665] \n",
            "0 : [690, 621, 689] 0 : [692, 627, 681] \n",
            "1 : [672, 709, 619] 0 : [700, 678, 622] \n",
            "2 : [610, 626, 764] 2 : [605, 643, 752] \n",
            "1 : [632, 820, 548] 1 : [646, 800, 554] \n",
            "2 : [612, 662, 726] 2 : [594, 687, 719] \n",
            "\n",
            "0 : [831, 550, 619] 0 : [759, 557, 684] \n",
            "0 : [765, 630, 605] 0 : [780, 654, 566] \n",
            "0 : [787, 639, 574] 0 : [783, 616, 601] \n",
            "0 : [778, 705, 517] 1 : [748, 755, 497] \n",
            "0 : [743, 582, 675] 0 : [703, 608, 689] \n",
            "\n",
            "[6, 4, 5]\n"
          ],
          "name": "stdout"
        }
      ]
    },
    {
      "metadata": {
        "id": "X5UQ7LnduiG_",
        "colab_type": "code",
        "colab": {
          "autoexec": {
            "startup": false,
            "wait_interval": 0
          }
        }
      },
      "cell_type": "code",
      "source": [
        ""
      ],
      "execution_count": 0,
      "outputs": []
    }
  ]
}